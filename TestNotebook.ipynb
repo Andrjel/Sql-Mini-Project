{
 "cells": [
  {
   "cell_type": "code",
   "execution_count": 2,
   "id": "4ea43a8a-1fc8-4ead-bc7e-ab4d81bfe1b0",
   "metadata": {},
   "outputs": [],
   "source": [
    "import extract\n",
    "import transform\n",
    "import pandas as pd\n",
    "import numpy as np\n",
    "\n",
    "e = extract.ClientSync()\n",
    "t = transform.Transformers()"
   ]
  },
  {
   "cell_type": "code",
   "execution_count": null,
   "id": "215d5fcd-2fd8-4647-9ff5-1c66921f307c",
   "metadata": {},
   "outputs": [],
   "source": [
    "# raw_data = extract.read_json(\"data/2024-04-19/18-54-07.json\")\n",
    "# result = t.transform_tickers_response(raw_data)\n",
    "# print(result.describe())\n",
    "# print(result.info())\n",
    "# result = result[not result.ticker.isnull and not result.composite_figi.isnull]\n",
    "# filtered_result = result[result[\"ticker\"].notna() & result[\"composite_figi\"].notna()]\n",
    "# filtered_result = filtered_result.drop([\"cik\", \"base_currency_name\", \"base_currency_symbol\", \"currency_symbol\"], axis=1)\n",
    "# result.query(\"ticker != None & composite_figi != None\", inplace=True)\n",
    "# print(filtered_result.info())"
   ]
  },
  {
   "cell_type": "markdown",
   "id": "6e07330c",
   "metadata": {},
   "source": [
    "## Transform ticker types response"
   ]
  },
  {
   "cell_type": "code",
   "execution_count": 3,
   "id": "3daff16d",
   "metadata": {},
   "outputs": [
    {
     "name": "stdout",
     "output_type": "stream",
     "text": [
      "<class 'pandas.core.frame.DataFrame'>\n",
      "RangeIndex: 24 entries, 0 to 23\n",
      "Data columns (total 3 columns):\n",
      " #   Column       Non-Null Count  Dtype \n",
      "---  ------       --------------  ----- \n",
      " 0   asset_class  24 non-null     object\n",
      " 1   code         24 non-null     object\n",
      " 2   description  24 non-null     object\n",
      "dtypes: object(3)\n",
      "memory usage: 704.0+ bytes\n",
      "None\n"
     ]
    }
   ],
   "source": [
    "raw_data = extract.read_json(\"data/get_all_ticker_types/2024-04-24.json\")\n",
    "result = t.transform_ticker_types_response(raw_data)    \n",
    "print(result.info())"
   ]
  }
 ],
 "metadata": {
  "kernelspec": {
   "display_name": "Python 3 (ipykernel)",
   "language": "python",
   "name": "python3"
  },
  "language_info": {
   "codemirror_mode": {
    "name": "ipython",
    "version": 3
   },
   "file_extension": ".py",
   "mimetype": "text/x-python",
   "name": "python",
   "nbconvert_exporter": "python",
   "pygments_lexer": "ipython3",
   "version": "3.10.12"
  }
 },
 "nbformat": 4,
 "nbformat_minor": 5
}
