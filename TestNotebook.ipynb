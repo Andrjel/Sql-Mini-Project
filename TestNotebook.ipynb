{
 "cells": [
  {
   "cell_type": "code",
   "execution_count": 1,
   "id": "4ea43a8a-1fc8-4ead-bc7e-ab4d81bfe1b0",
   "metadata": {},
   "outputs": [],
   "source": [
    "import extract\n",
    "import transform\n",
    "import pandas as pd\n",
    "import numpy as np\n",
    "\n",
    "e = extract.ClientSync()\n",
    "t = transform.Transformers()"
   ]
  },
  {
   "cell_type": "code",
   "execution_count": 3,
   "id": "215d5fcd-2fd8-4647-9ff5-1c66921f307c",
   "metadata": {},
   "outputs": [
    {
     "name": "stdout",
     "output_type": "stream",
     "text": [
      "       active         cik composite_figi currency_name      last_updated_utc  \\\n",
      "count    5000        1527           2762          4999                  5000   \n",
      "unique      1        1028           2761           135                  2242   \n",
      "top      True  0001657201   BBG000BHJWG1           USD  2024-04-18T00:00:00Z   \n",
      "freq     5000          28              2          2366                  1601   \n",
      "\n",
      "       locale market                      name primary_exchange  \\\n",
      "count    5000   5000                      5000             1628   \n",
      "unique      2      3                      4989                5   \n",
      "top        us    otc  The Allstate Corporation             XNAS   \n",
      "freq     3994   2366                         3              776   \n",
      "\n",
      "       share_class_figi ticker  type base_currency_name base_currency_symbol  \\\n",
      "count              2673   5000  3994               1004                 1006   \n",
      "unique             2672   5000    16                118                  120   \n",
      "top        BBG001SB2HG5      A    CS     Pound sterling                  GBP   \n",
      "freq                  2      1  1531                131                  131   \n",
      "\n",
      "       currency_symbol  \n",
      "count             1006  \n",
      "unique             134  \n",
      "top                USD  \n",
      "freq               110  \n"
     ]
    }
   ],
   "source": [
    "raw_data = extract.read_json(\"data/2024-04-19/18-54-07.json\")\n",
    "result = t.transform_tickers_response(raw_data)\n",
    "print(result.describe())"
   ]
  }
 ],
 "metadata": {
  "kernelspec": {
   "display_name": "Python 3 (ipykernel)",
   "language": "python",
   "name": "python3"
  },
  "language_info": {
   "codemirror_mode": {
    "name": "ipython",
    "version": 3
   },
   "file_extension": ".py",
   "mimetype": "text/x-python",
   "name": "python",
   "nbconvert_exporter": "python",
   "pygments_lexer": "ipython3",
   "version": "3.10.12"
  }
 },
 "nbformat": 4,
 "nbformat_minor": 5
}
