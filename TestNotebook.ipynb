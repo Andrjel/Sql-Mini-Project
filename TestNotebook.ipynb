{
 "cells": [
  {
   "cell_type": "code",
   "execution_count": 2,
   "id": "4ea43a8a-1fc8-4ead-bc7e-ab4d81bfe1b0",
   "metadata": {},
   "outputs": [],
   "source": [
    "from extract import ClientSync\n",
    "from transform import Transformers\n",
    "\n",
    "e = ClientSync()\n",
    "t = Transformers()"
   ]
  },
  {
   "cell_type": "code",
   "execution_count": 10,
   "id": "215d5fcd-2fd8-4647-9ff5-1c66921f307c",
   "metadata": {},
   "outputs": [
    {
     "name": "stdout",
     "output_type": "stream",
     "text": [
      "Empty DataFrame\n",
      "Columns: []\n",
      "Index: []\n"
     ]
    }
   ],
   "source": [
    "raw_tickers = e.get_all_tickers()\n",
    "result = t.transform_tickers_response(raw_tickers) \n",
    "# print(result.describe())\n",
    "# print(result.info())\n",
    " "
   ]
  }
 ],
 "metadata": {
  "kernelspec": {
   "display_name": "Python 3 (ipykernel)",
   "language": "python",
   "name": "python3"
  },
  "language_info": {
   "codemirror_mode": {
    "name": "ipython",
    "version": 3
   },
   "file_extension": ".py",
   "mimetype": "text/x-python",
   "name": "python",
   "nbconvert_exporter": "python",
   "pygments_lexer": "ipython3",
   "version": "3.10.12"
  }
 },
 "nbformat": 4,
 "nbformat_minor": 5
}
